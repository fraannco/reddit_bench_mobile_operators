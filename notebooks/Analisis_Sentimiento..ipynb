{
 "cells": [
  {
   "cell_type": "markdown",
   "metadata": {},
   "source": [
    "## 1. Importando librerias"
   ]
  },
  {
   "cell_type": "markdown",
   "metadata": {},
   "source": [
    "Librerias Generales"
   ]
  },
  {
   "cell_type": "code",
   "execution_count": 40,
   "metadata": {},
   "outputs": [],
   "source": [
    "import pandas as pd"
   ]
  },
  {
   "cell_type": "markdown",
   "metadata": {},
   "source": [
    "Etiquetado de opiniones"
   ]
  },
  {
   "cell_type": "code",
   "execution_count": 39,
   "metadata": {},
   "outputs": [],
   "source": [
    "from textblob import TextBlob"
   ]
  },
  {
   "cell_type": "markdown",
   "metadata": {},
   "source": [
    "## 2. Importando dataset"
   ]
  },
  {
   "cell_type": "code",
   "execution_count": 41,
   "metadata": {},
   "outputs": [],
   "source": [
    "df = pd.read_csv('../files/reddit_peru_mobile_operators_opinions.csv', header=0)"
   ]
  },
  {
   "cell_type": "code",
   "execution_count": 42,
   "metadata": {},
   "outputs": [
    {
     "name": "stdout",
     "output_type": "stream",
     "text": [
      "Tamaño del dataset:   3168\n"
     ]
    }
   ],
   "source": [
    "print(\"Tamaño del dataset:  \", len(df))"
   ]
  },
  {
   "cell_type": "code",
   "execution_count": 43,
   "metadata": {},
   "outputs": [
    {
     "data": {
      "text/html": [
       "<div>\n",
       "<style scoped>\n",
       "    .dataframe tbody tr th:only-of-type {\n",
       "        vertical-align: middle;\n",
       "    }\n",
       "\n",
       "    .dataframe tbody tr th {\n",
       "        vertical-align: top;\n",
       "    }\n",
       "\n",
       "    .dataframe thead th {\n",
       "        text-align: right;\n",
       "    }\n",
       "</style>\n",
       "<table border=\"1\" class=\"dataframe\">\n",
       "  <thead>\n",
       "    <tr style=\"text-align: right;\">\n",
       "      <th></th>\n",
       "      <th>post_id</th>\n",
       "      <th>post_author</th>\n",
       "      <th>comment_id</th>\n",
       "      <th>comment_author</th>\n",
       "      <th>post_title</th>\n",
       "      <th>post_created_utc</th>\n",
       "      <th>link_flair_text</th>\n",
       "      <th>selftext</th>\n",
       "      <th>subreddit</th>\n",
       "      <th>upvote_ratio</th>\n",
       "      <th>comment</th>\n",
       "      <th>comment_score</th>\n",
       "      <th>comment_created_utc</th>\n",
       "      <th>menciones_operadoras</th>\n",
       "    </tr>\n",
       "  </thead>\n",
       "  <tbody>\n",
       "    <tr>\n",
       "      <th>0</th>\n",
       "      <td>ahmaq3</td>\n",
       "      <td>InsaneJSK</td>\n",
       "      <td>eeftoum</td>\n",
       "      <td>bestmaokaina</td>\n",
       "      <td>mejor compania internet fijo</td>\n",
       "      <td>2019-01-19 14:00:59</td>\n",
       "      <td>NaN</td>\n",
       "      <td>acabo mudarme lima quisiera saber experiencia ...</td>\n",
       "      <td>t5_2qp9h</td>\n",
       "      <td>0.73</td>\n",
       "      <td>movistar demas hacen throttling luego cantidad...</td>\n",
       "      <td>3</td>\n",
       "      <td>2019-01-19 14:03:47</td>\n",
       "      <td>movistar</td>\n",
       "    </tr>\n",
       "    <tr>\n",
       "      <th>1</th>\n",
       "      <td>ahmaq3</td>\n",
       "      <td>InsaneJSK</td>\n",
       "      <td>eegc69q</td>\n",
       "      <td>morto00x</td>\n",
       "      <td>mejor compania internet fijo</td>\n",
       "      <td>2019-01-19 14:00:59</td>\n",
       "      <td>NaN</td>\n",
       "      <td>acabo mudarme lima quisiera saber experiencia ...</td>\n",
       "      <td>t5_2qp9h</td>\n",
       "      <td>0.73</td>\n",
       "      <td>depende zona ancho banda comparte casas negoci...</td>\n",
       "      <td>3</td>\n",
       "      <td>2019-01-19 17:30:52</td>\n",
       "      <td>claro</td>\n",
       "    </tr>\n",
       "    <tr>\n",
       "      <th>2</th>\n",
       "      <td>ahmaq3</td>\n",
       "      <td>InsaneJSK</td>\n",
       "      <td>eewh9y7</td>\n",
       "      <td>NiMierda</td>\n",
       "      <td>mejor compania internet fijo</td>\n",
       "      <td>2019-01-19 14:00:59</td>\n",
       "      <td>NaN</td>\n",
       "      <td>acabo mudarme lima quisiera saber experiencia ...</td>\n",
       "      <td>t5_2qp9h</td>\n",
       "      <td>0.73</td>\n",
       "      <td>depende zona mala experiencia vomistar tranqui...</td>\n",
       "      <td>2</td>\n",
       "      <td>2019-01-25 04:35:20</td>\n",
       "      <td>claro, movistar</td>\n",
       "    </tr>\n",
       "    <tr>\n",
       "      <th>3</th>\n",
       "      <td>ahmaq3</td>\n",
       "      <td>InsaneJSK</td>\n",
       "      <td>eefutn7</td>\n",
       "      <td>kambriel1</td>\n",
       "      <td>mejor compania internet fijo</td>\n",
       "      <td>2019-01-19 14:00:59</td>\n",
       "      <td>NaN</td>\n",
       "      <td>acabo mudarme lima quisiera saber experiencia ...</td>\n",
       "      <td>t5_2qp9h</td>\n",
       "      <td>0.73</td>\n",
       "      <td>dependiendo zona mejor creo puede ser claro es...</td>\n",
       "      <td>1</td>\n",
       "      <td>2019-01-19 14:18:09</td>\n",
       "      <td>claro</td>\n",
       "    </tr>\n",
       "    <tr>\n",
       "      <th>4</th>\n",
       "      <td>ahmaq3</td>\n",
       "      <td>InsaneJSK</td>\n",
       "      <td>eel1pyo</td>\n",
       "      <td>4e5r6t7y8u9i0o</td>\n",
       "      <td>mejor compania internet fijo</td>\n",
       "      <td>2019-01-19 14:00:59</td>\n",
       "      <td>NaN</td>\n",
       "      <td>acabo mudarme lima quisiera saber experiencia ...</td>\n",
       "      <td>t5_2qp9h</td>\n",
       "      <td>0.73</td>\n",
       "      <td>is probably your best bet https</td>\n",
       "      <td>1</td>\n",
       "      <td>2019-01-21 01:03:55</td>\n",
       "      <td>NaN</td>\n",
       "    </tr>\n",
       "  </tbody>\n",
       "</table>\n",
       "</div>"
      ],
      "text/plain": [
       "  post_id post_author comment_id  comment_author  \\\n",
       "0  ahmaq3   InsaneJSK    eeftoum    bestmaokaina   \n",
       "1  ahmaq3   InsaneJSK    eegc69q        morto00x   \n",
       "2  ahmaq3   InsaneJSK    eewh9y7        NiMierda   \n",
       "3  ahmaq3   InsaneJSK    eefutn7       kambriel1   \n",
       "4  ahmaq3   InsaneJSK    eel1pyo  4e5r6t7y8u9i0o   \n",
       "\n",
       "                     post_title     post_created_utc link_flair_text  \\\n",
       "0  mejor compania internet fijo  2019-01-19 14:00:59             NaN   \n",
       "1  mejor compania internet fijo  2019-01-19 14:00:59             NaN   \n",
       "2  mejor compania internet fijo  2019-01-19 14:00:59             NaN   \n",
       "3  mejor compania internet fijo  2019-01-19 14:00:59             NaN   \n",
       "4  mejor compania internet fijo  2019-01-19 14:00:59             NaN   \n",
       "\n",
       "                                            selftext subreddit  upvote_ratio  \\\n",
       "0  acabo mudarme lima quisiera saber experiencia ...  t5_2qp9h          0.73   \n",
       "1  acabo mudarme lima quisiera saber experiencia ...  t5_2qp9h          0.73   \n",
       "2  acabo mudarme lima quisiera saber experiencia ...  t5_2qp9h          0.73   \n",
       "3  acabo mudarme lima quisiera saber experiencia ...  t5_2qp9h          0.73   \n",
       "4  acabo mudarme lima quisiera saber experiencia ...  t5_2qp9h          0.73   \n",
       "\n",
       "                                             comment  comment_score  \\\n",
       "0  movistar demas hacen throttling luego cantidad...              3   \n",
       "1  depende zona ancho banda comparte casas negoci...              3   \n",
       "2  depende zona mala experiencia vomistar tranqui...              2   \n",
       "3  dependiendo zona mejor creo puede ser claro es...              1   \n",
       "4                    is probably your best bet https              1   \n",
       "\n",
       "   comment_created_utc menciones_operadoras  \n",
       "0  2019-01-19 14:03:47             movistar  \n",
       "1  2019-01-19 17:30:52                claro  \n",
       "2  2019-01-25 04:35:20      claro, movistar  \n",
       "3  2019-01-19 14:18:09                claro  \n",
       "4  2019-01-21 01:03:55                  NaN  "
      ]
     },
     "execution_count": 43,
     "metadata": {},
     "output_type": "execute_result"
    }
   ],
   "source": [
    "df.head(5)"
   ]
  },
  {
   "cell_type": "markdown",
   "metadata": {},
   "source": [
    "## 2. Realizando el etiquetado de opiniones"
   ]
  },
  {
   "cell_type": "code",
   "execution_count": 59,
   "metadata": {},
   "outputs": [],
   "source": [
    "import nltk\n",
    "from nltk.sentiment import SentimentIntensityAnalyzer\n",
    "\n",
    "def etiquetar_opinion(opinion):\n",
    "    sia = SentimentIntensityAnalyzer()\n",
    "    sentiment_score = sia.polarity_scores(opinion)[\"compound\"]\n",
    "\n",
    "    if sentiment_score >= 0.05:\n",
    "        label = \"Positivo\"\n",
    "    elif sentiment_score <= -0.05:\n",
    "        label = \"Negativo\"\n",
    "    else:\n",
    "        label = \"Neutro\"\n",
    "\n",
    "    return label"
   ]
  },
  {
   "cell_type": "code",
   "execution_count": 56,
   "metadata": {},
   "outputs": [
    {
     "name": "stdout",
     "output_type": "stream",
     "text": [
      "Opinión: movistar demas hacen throttling luego cantidad determinada gbs consumo\n",
      "Sentimiento: Neutro\n",
      "\n",
      "Opinión: depende zona ancho banda comparte casas negocios alrededor ejemplo si vecinos cuadra usan telefonica probable claro rapido ley proveedor internet darte como minimo velocidad descarga pagaste casos van dar casi dia ideal preguntar vecinos servicio usan tan rapido\n",
      "Sentimiento: Positivo\n",
      "\n",
      "Opinión: depende zona mala experiencia vomistar tranquilo claro juran movistar mejor mundo claro kk mejor pregunta vecinos ves conviene\n",
      "Sentimiento: Neutro\n",
      "\n",
      "Opinión: dependiendo zona mejor creo puede ser claro estable\n",
      "Sentimiento: Neutro\n",
      "\n",
      "Opinión: is probably your best bet https\n",
      "Sentimiento: Positivo\n",
      "\n"
     ]
    }
   ],
   "source": [
    "opinions = [\n",
    "    \"movistar demas hacen throttling luego cantidad determinada gbs consumo\",\n",
    "    \"depende zona ancho banda comparte casas negocios alrededor ejemplo si vecinos cuadra usan telefonica probable claro rapido ley proveedor internet darte como minimo velocidad descarga pagaste casos van dar casi dia ideal preguntar vecinos servicio usan tan rapido\",\n",
    "    \"depende zona mala experiencia vomistar tranquilo claro juran movistar mejor mundo claro kk mejor pregunta vecinos ves conviene\",\n",
    "    \"dependiendo zona mejor creo puede ser claro estable\",\n",
    "    \"is probably your best bet https\"\n",
    "]\n",
    "\n",
    "for opinion in opinions:\n",
    "    print(f\"Opinión: {opinion}\\nSentimiento: {etiquetar_opinion(opinion)}\\n\")"
   ]
  }
 ],
 "metadata": {
  "kernelspec": {
   "display_name": ".venv",
   "language": "python",
   "name": "python3"
  },
  "language_info": {
   "codemirror_mode": {
    "name": "ipython",
    "version": 3
   },
   "file_extension": ".py",
   "mimetype": "text/x-python",
   "name": "python",
   "nbconvert_exporter": "python",
   "pygments_lexer": "ipython3",
   "version": "3.11.6"
  }
 },
 "nbformat": 4,
 "nbformat_minor": 2
}
